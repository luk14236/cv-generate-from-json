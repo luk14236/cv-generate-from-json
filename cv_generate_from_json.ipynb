{
  "nbformat": 4,
  "nbformat_minor": 0,
  "metadata": {
    "colab": {
      "provenance": []
    },
    "kernelspec": {
      "name": "python3",
      "display_name": "Python 3"
    },
    "language_info": {
      "name": "python"
    }
  },
  "cells": [
    {
      "cell_type": "code",
      "metadata": {
        "id": "xcoLQ4nKwWl3"
      },
      "source": [
        "!pip install docxtpl"
      ],
      "execution_count": null,
      "outputs": []
    },
    {
      "cell_type": "code",
      "metadata": {
        "id": "A_dBFEyGUaOn"
      },
      "source": [
        "def get_initials(full_name):\n",
        "  names = full_name.split(\" \")\n",
        "  return (names[0])[0] + (names[len(names) - 1])[0]"
      ],
      "execution_count": null,
      "outputs": []
    },
    {
      "cell_type": "code",
      "metadata": {
        "id": "8VnUW5_MDCqr"
      },
      "source": [
        "from docxtpl import DocxTemplate, InlineImage\n",
        "from datetime import datetime\n",
        "from docx.shared import Pt\n",
        "from docx.enum.style import WD_STYLE_TYPE\n",
        "\n",
        "import json\n",
        "\n",
        "doc = DocxTemplate(\"/content/drive/MyDrive/cv_model.docx\")\n",
        "dados = open('/content/drive/MyDrive/model.json',)\n",
        "dados = json.load(dados)\n",
        "\n",
        "#STYLES\n",
        "font_styles = doc.styles\n",
        "font_charstyle = font_styles.add_style('internal_titles', WD_STYLE_TYPE.CHARACTER)\n",
        "font_object = font_charstyle.font\n",
        "font_object.underline = True\n",
        "font_object.size = Pt(14)\n",
        "font_object.name = 'Arial'\n",
        "\n",
        "font_charstyle = font_styles.add_style('internal_text', WD_STYLE_TYPE.CHARACTER)\n",
        "font_object = font_charstyle.font\n",
        "font_object.size = Pt(10)\n",
        "font_object.name = 'Arial'\n",
        "\n",
        "# PICTURE\n",
        "tables = doc.tables\n",
        "tables[0].rows[0].cells[1]._element.clear_content()\n",
        "img = tables[0].rows[0].cells[1].add_paragraph().add_run().add_picture('/content/drive/MyDrive/profile.jpg')\n",
        "\n",
        "# WORK HISTORY\n",
        "if dados[\"experiences\"]:\n",
        "  doc.add_paragraph().add_run(\"\\n\\nWORK HISTORY\", style='internal_titles').bold = True\n",
        "  for work in dados[\"experiences\"]:\n",
        "    table_experiencia = doc.add_table(rows = 5, cols = 2)\n",
        "    table_experiencia.rows[0].cells[0].paragraphs[0].add_run(work[\"company\"], style='internal_text').bold = True\n",
        "    table_experiencia.rows[1].cells[0].paragraphs[0].add_run(\"Institutional affiliation\", style='internal_text').bold = True\n",
        "    table_experiencia.rows[2].cells[0].paragraphs[0].add_run(work[\"duration\"], style='internal_text')\n",
        "    table_experiencia.rows[2].cells[1].paragraphs[0].add_run(\"Placement:\", style='internal_text').bold = True\n",
        "    table_experiencia.rows[2].cells[1].paragraphs[0].add_run(work[\"title\"], style='internal_text')\n",
        "    if work[\"description\"]:\n",
        "      table_experiencia.rows[3].cells[0].paragraphs[0].add_run(\"Activities\", style='internal_text').bold = True\n",
        "      table_experiencia.rows[3].cells[1].paragraphs[0].add_run(work[\"description\"], style='internal_text')\n",
        "\n",
        "# SKILLS\n",
        "if dados[\"skills\"]:\n",
        "  doc.add_paragraph().add_run(\"SKILLS\", style='internal_titles').bold = True\n",
        "  doc.add_paragraph().add_run(\"5 = Master, 4 = Expert, 3 = Proficient, 2 = Familiar, 1 = Beginner\", style='internal_text').italic = True\n",
        "  for skill in dados[\"skills\"]:\n",
        "    table_skill = doc.add_table(rows = 1, cols = 2)\n",
        "    table_skill.rows[0].cells[0].paragraphs[0].add_run(skill[\"skill\"], style='internal_text')\n",
        "    table_skill.rows[0].cells[1].paragraphs[0].add_run(\"assessment = \" + str(int(int(\"0\" if skill[\"votes\"] == \"\" else skill[\"votes\"])/5 + 1)), style='internal_text')\n",
        "\n",
        "# EDUCATION\n",
        "if dados[\"educations\"]:\n",
        "  doc.add_paragraph().add_run(\"EDUCATION\", style='internal_titles').bold = True\n",
        "  for education in dados[\"educations\"]:\n",
        "    table_education = doc.add_table(rows = 2, cols = 3)\n",
        "    table_education.rows[0].cells[0].paragraphs[0].add_run(education[\"duration\"], style='internal_text')\n",
        "    table_education.rows[0].cells[1].paragraphs[0].add_run(education[\"course\"], style='internal_text').bold = True\n",
        "    table_education.rows[1].cells[1].paragraphs[0].add_run(education[\"school\"], style='internal_text')\n",
        "\n",
        "# LANGUAGE SKILLS\n",
        "if dados[\"languages\"]:\n",
        "  doc.add_paragraph().add_run(\"LANGUAGE SKILLS\", style='internal_titles').bold = True\n",
        "  for language in dados[\"languages\"]:\n",
        "    table_education = doc.add_table(rows = 1, cols = 2)\n",
        "    table_education.rows[0].cells[0].paragraphs[0].add_run(language[\"language\"], style='internal_text').bold = True\n",
        "    table_education.rows[0].cells[1].paragraphs[0].add_run(\"Spoken (Intermediate), Written (Intermediate), Listening (Intermediate)\", style='internal_text')\n",
        "\n",
        "cvid = \"CV-EN-{0}-{1}\".format(datetime.today().strftime('%Y%m%d'), get_initials(dados[\"name\"]))\n",
        "\n",
        "context = {'work' : dados[\"work\"] + '\\n\\n'+ dados[\"info\"], 'age':'', 'locate': dados[\"locate\"], 'CV_ID': cvid}\n",
        "\n",
        "doc.render(context)\n",
        "\n",
        "doc.save(\"/content/drive/MyDrive/profile.docx\")"
      ],
      "execution_count": null,
      "outputs": []
    }
  ]
}